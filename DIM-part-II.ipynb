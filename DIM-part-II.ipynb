{
 "cells": [
  {
   "cell_type": "markdown",
   "id": "corrected-planner",
   "metadata": {
    "slideshow": {
     "slide_type": "slide"
    }
   },
   "source": [
    "![Callysto.ca Banner](https://github.com/callysto/curriculum-notebooks/blob/master/callysto-notebook-banner-top.jpg?raw=true)\n",
    "\n",
    "<h2 align='center'>Modelling the Impact of Fish Harvesting</h2>\n",
    "\n",
    "<h4 align='center'>Laura Gutierrez Funderburk </h4>\n",
    "\n",
    "<h4 align='center'>Data Scientist at Cybera, Callysto Project</h4>"
   ]
  },
  {
   "cell_type": "markdown",
   "id": "brown-complexity",
   "metadata": {
    "slideshow": {
     "slide_type": "slide"
    }
   },
   "source": [
    "<h2 align='center'>Acknowledgements </h2>\n",
    "\n",
    "We acknowledge the Indigenous Peoples of all the lands that we are on today. From all corners of this province, we acknowledge the ancestral and unceded territory of all the Indigenous people that call this land home. "
   ]
  },
  {
   "cell_type": "markdown",
   "id": "developmental-header",
   "metadata": {
    "slideshow": {
     "slide_type": "subslide"
    }
   },
   "source": [
    "<h2 align='center'>Acknowledgements </h2>\n",
    "\n",
    "While we meet here today on a virtual platform, and myself on the unceded territories of the xʷməθkwəy̓əm, Skwxwú7mesh, Stó:lō and Səl̓ílwətaʔ/Selilwitulh Nations, we take a moment to acknowledge the importance of reconciliation and collaboration. "
   ]
  },
  {
   "cell_type": "markdown",
   "id": "vulnerable-castle",
   "metadata": {
    "slideshow": {
     "slide_type": "subslide"
    }
   },
   "source": [
    "<h2 align='center'>Acknowledgements </h2>\n",
    "\n",
    "\n",
    "We do this to reaffirm our commitment and responsibility in improving relationships between nations and to improve our own understanding of local Indigenous peoples and their cultures."
   ]
  },
  {
   "cell_type": "markdown",
   "id": "substantial-theology",
   "metadata": {
    "slideshow": {
     "slide_type": "slide"
    }
   },
   "source": [
    "<h2 align='center'>Welcome, \"Che che ha thetch\"</h2>\n"
   ]
  },
  {
   "cell_type": "markdown",
   "id": "moving-stick",
   "metadata": {
    "slideshow": {
     "slide_type": "slide"
    }
   },
   "source": [
    "|Core team|  | Collaborators |  | \n",
    "|-| -| -| -| \n",
    "|Cedric Chauve|Laura G. Funderburk|Anouk de Brouwer|James Colliander|\n",
    "|Bryce Haley|Veselin Jungic|Georgia Combes|Rachel Dunn|\n",
    "|Jenifer Pham |Alex Sutcliffe |MC Kropinski|Janson Lin|\n",
    "|Howell Tan|Betty Wilson|Pierayeh Vahdani|Courtney Van Den Elzen|\n",
    "| | |Elroy White|Barbara Winter\n",
    "\n",
    "<h4 align='center'>In Partnership with</h4>\n",
    "\n",
    "|  | |\n",
    "|-| - | \n",
    "|The Tla'amin Nation| <img src=\"./images/tlaamin.png\" alt=\"Drawing\" style=\"width: 100px;\"/>|\n",
    "\n",
    "<h4 align='center'>Brought to you by</h4>\n",
    "\n",
    "| | | | | \n",
    "|-|-|-|-|\n",
    "|<img src=\"./images/Cybera_Logo_RBG_Colour.png\" alt=\"Drawing\" style=\"width: 100px;\"/>|<img src=\"./images/PIMS_Logos_Web_PIMS_Logo_Colour.png\" alt=\"Drawing\" style=\"width: 200px;\"/>|<img src=\"./images/With_Funding_Canada_Wordmark-colour_BIL-EN.png\" alt=\"Drawing\" style=\"width: 200px;\"/>|\n"
   ]
  },
  {
   "cell_type": "markdown",
   "id": "respective-fortune",
   "metadata": {
    "slideshow": {
     "slide_type": "slide"
    }
   },
   "source": [
    "<h2 align='center'>Learning Outcomes </h2>\n",
    "\n",
    "* Indigenous knowledge and perspectives."
   ]
  },
  {
   "cell_type": "markdown",
   "id": "structural-football",
   "metadata": {
    "slideshow": {
     "slide_type": "subslide"
    }
   },
   "source": [
    "<h2 align='center'>Learning Outcomes </h2>\n",
    "\n",
    "* Mathematical thinking in relation to First Nations Peoples traditions."
   ]
  },
  {
   "cell_type": "markdown",
   "id": "continuous-diameter",
   "metadata": {
    "slideshow": {
     "slide_type": "subslide"
    }
   },
   "source": [
    "<h2 align='center'>Learning Outcomes </h2>\n",
    "\n",
    "* Environmental impact of overharvesting fish.\n"
   ]
  },
  {
   "cell_type": "markdown",
   "id": "sacred-filing",
   "metadata": {
    "slideshow": {
     "slide_type": "subslide"
    }
   },
   "source": [
    "<h2 align='center'>Learning Outcomes </h2>\n",
    "\n",
    "* Engage in problem-solving experiences connected to a place, story, cultural practices and\n",
    "perspectives relevant to the Tla’amin Nation."
   ]
  },
  {
   "cell_type": "markdown",
   "id": "pediatric-madness",
   "metadata": {
    "slideshow": {
     "slide_type": "slide"
    }
   },
   "source": [
    "<h2 align='center'>Background Knowledge: Harvesting in the Tla'amin Nation </h2>\n",
    "\n",
    "\n",
    "| |\n",
    "|-|\n",
    "|[![Salmon life cycle](https://img.youtube.com/vi/X6aNgeD4ldc/0.jpg)](https://www.youtube.com/watch?v=X6aNgeD4ldc)|\n",
    "\n",
    "\n",
    "tišosəm - Tla'amin Community, by the Tla'amin Nation"
   ]
  },
  {
   "cell_type": "markdown",
   "id": "magnetic-motel",
   "metadata": {
    "slideshow": {
     "slide_type": "slide"
    }
   },
   "source": [
    "<h2 align='center'>Background Knowledge: Life Cycle of Salmon </h2>\n",
    "\n",
    "\n",
    "| |\n",
    "|-|\n",
    "|[![Salmon life cycle](https://img.youtube.com/vi/nkXthUsnRz4/0.jpg)](https://www.youtube.com/watch?v=nkXthUsnRz4)|\n",
    "\n",
    "\n",
    "\n",
    "\n",
    "The Epic Journey - Follow a Salmon from Egg to Spawner. By OceanWise"
   ]
  },
  {
   "cell_type": "markdown",
   "id": "typical-suicide",
   "metadata": {
    "slideshow": {
     "slide_type": "slide"
    }
   },
   "source": [
    "<h2 align='center'>Background: using mathematics to describe the world around us</h2>\n",
    "\n",
    "We can think of mathematics as a language that allows us to describe our understanding of the world. \n",
    "\n",
    "In this exercise, we will use mathematics to understand the life cycle of salmon. "
   ]
  },
  {
   "cell_type": "markdown",
   "id": "sharing-polls",
   "metadata": {
    "slideshow": {
     "slide_type": "slide"
    }
   },
   "source": [
    "<h2 align='center'>Background: mathematical model</h2>\n",
    "\n",
    "\n",
    "A mathematical model is a description of a system using <b>mathematical concepts</b> and <b>mathematical language</b>.\n",
    "\n",
    "You can think of a math model as a tool to help us describe what we believe about the workings of phenomena in the world. \n",
    "\n",
    "<b>We use the language of mathematics to express our beliefs.</b>\n",
    "\n",
    "<b>We use mathematics (theoretical and numerical analysis) to evaluate the model, and get insights about the original phenomenon.</b>"
   ]
  },
  {
   "cell_type": "markdown",
   "id": "extensive-jewelry",
   "metadata": {
    "slideshow": {
     "slide_type": "slide"
    }
   },
   "source": [
    "<h2 align='center'>Background: mathematical model</h2>\n",
    "\n",
    "Building mathematical models can be useful in helping us: \n",
    "\n",
    "1. Developing scientific understanding\n",
    "    - expressing knowledge of a system or phenomenon\n",
    "    - displaying what we know\n",
    "    - discovering what we do not know\n",
    "2. Testing the effect of changes in a system\n",
    "3. Helping us make (better) decisions"
   ]
  },
  {
   "cell_type": "markdown",
   "id": "fuzzy-offer",
   "metadata": {
    "slideshow": {
     "slide_type": "slide"
    }
   },
   "source": [
    "<h2 align='center'>Background: road map to build a mathematical</h2>\n",
    "\n",
    "\n",
    "|Step | Description |\n",
    "|-|-|\n",
    "|1| <font color=#000000><b>Choose what phenomenon you want to model|</b></font>\n",
    "|2| <font color=#000000><b>What assumptions are you making about the phenomenon|1|</b></font>   \n",
    "|3| <font color=#000000><b>Use a flow diagram to help you determine the structure of your model|1|</b></font>\n",
    "|4| <font color=#000000><b>Choose equations|2|</b></font>\n",
    "|5| <font color=#000000><b>Implement equations using Python|2|</b></font>\n",
    "|6| <font color=#000000><b>Solve equations|2|</b></font>\n",
    "|7| <font color=#000000><b>Study the behaviour of the model|3|</b></font>\n",
    "|8| <font color=#000000><b>Test the model|3|</b></font>\n",
    "|9| <font color=#000000><b>Use the model|3|</b></font>"
   ]
  },
  {
   "cell_type": "markdown",
   "id": "regulation-tender",
   "metadata": {
    "slideshow": {
     "slide_type": "slide"
    }
   },
   "source": [
    "<h2 align='center'>Activity: identify stages in the life cycle of salmon</h2>\n",
    "\n",
    "| |\n",
    "|-|\n",
    "|<img src=\"./images/lifecyclediagram.png\" width=\"980\">| "
   ]
  },
  {
   "cell_type": "markdown",
   "id": "compatible-record",
   "metadata": {
    "slideshow": {
     "slide_type": "slide"
    }
   },
   "source": [
    "<h2 align='center'>Activity: when would harvesting take place in our model?</h2>\n",
    "\n",
    "| |\n",
    "|-|\n",
    "|<img src=\"./images/lifecyclefilled.png\" width=\"980\">| "
   ]
  },
  {
   "cell_type": "markdown",
   "id": "following-facing",
   "metadata": {
    "slideshow": {
     "slide_type": "slide"
    }
   },
   "source": [
    "<h2 align='center'>Background: pink salmon, an interesting kind of salmon</h2>\n",
    "\n",
    "\n",
    "- Pink salmon is a species of salmon found in North America. \n",
    "\n",
    "- It has the shortest life span of all Pacific salmon found in this region.\n",
    "\n",
    "- This species completes their life cycle in two years. \n",
    "\n",
    "- This two-year cycle has created two genetically distinct populations: an odd-year population, and an even-year population.\n",
    "\n",
    "- These populations do not interbreed, i.e. fish pink salmon from odd years cannot mate with pink salmon from even years."
   ]
  },
  {
   "cell_type": "markdown",
   "id": "duplicate-vampire",
   "metadata": {
    "slideshow": {
     "slide_type": "slide"
    }
   },
   "source": [
    "<h2 align='center'>Activity: bringing our model to life using code</h2>\n",
    "\n",
    "$\\Rightarrow$ We are going to interact with code containing a model.  \n",
    "\n",
    "$\\Rightarrow$ We are going to use the model to observe what happens when we harvest fish in a greedy manner."
   ]
  },
  {
   "cell_type": "markdown",
   "id": "abroad-albania",
   "metadata": {
    "slideshow": {
     "slide_type": "slide"
    }
   },
   "source": [
    "<h2 align='center'>Activity: let's do some setup first</h2>\n",
    "\n",
    "$\\Rightarrow$ We are going to use the Python programming language.\n",
    "\n",
    "    A programming language allows us to communicate with a computer. \n",
    "    We will instruct the computer on how to simulate a trap.\n",
    "\n",
    "$\\Rightarrow$ We are going to use Jupyter notebooks.\n",
    "\n",
    "    Jupyter notebooks allow us to visualize and interact with our\n",
    "    simulation."
   ]
  },
  {
   "cell_type": "markdown",
   "id": "determined-product",
   "metadata": {
    "slideshow": {
     "slide_type": "slide"
    }
   },
   "source": [
    "<h2 align='center'>Activity: using code to model fish being harvested</h2>\n",
    "\n",
    "\n",
    "Modelling the life cycle of pink salmon and harvesting: https://tinyurl.com/y6cdcw2n"
   ]
  }
 ],
 "metadata": {
  "celltoolbar": "Slideshow",
  "kernelspec": {
   "display_name": "Python 3",
   "language": "python",
   "name": "python3"
  },
  "language_info": {
   "codemirror_mode": {
    "name": "ipython",
    "version": 3
   },
   "file_extension": ".py",
   "mimetype": "text/x-python",
   "name": "python",
   "nbconvert_exporter": "python",
   "pygments_lexer": "ipython3",
   "version": "3.8.8"
  },
  "rise": {
   "autolaunch": false,
   "backimage": "Bgnd0.jpg"
  }
 },
 "nbformat": 4,
 "nbformat_minor": 5
}
