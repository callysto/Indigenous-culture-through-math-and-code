{
 "cells": [
  {
   "cell_type": "markdown",
   "metadata": {
    "slideshow": {
     "slide_type": "slide"
    }
   },
   "source": [
    "![Callysto.ca Banner](https://github.com/callysto/curriculum-notebooks/blob/master/callysto-notebook-banner-top.jpg?raw=true)\n",
    "\n",
    "<h2 align='center'>Coast Salish Baskets (Grade 9)</h2>\n",
    "\n",
    "<h4 align='center'>Laura Gutierrez Funderburk </h4>\n",
    "\n",
    "<h4 align='center'>Data Scientist at Cybera, Callysto Project</h4>"
   ]
  },
  {
   "cell_type": "markdown",
   "metadata": {
    "slideshow": {
     "slide_type": "slide"
    }
   },
   "source": [
    "<h2 align='center'>What we will learn today</h2>\n",
    "\n",
    "How to access the Callysto Hub https://hub.callysto.ca/\n",
    "\n",
    "What is a Jupyter notebook and how to interact with it. \n",
    "\n",
    "An example of a Jupyter notebook exploring Coast Salish baskets. \n"
   ]
  },
  {
   "cell_type": "code",
   "execution_count": null,
   "metadata": {
    "slideshow": {
     "slide_type": "skip"
    }
   },
   "outputs": [],
   "source": [
    "%run ./scripts/web_scrapping.py \"https://www.waterlevels.gc.ca/eng/data/table/2021/wlev_sec/7880\"\n",
    "%run -i ./scripts/scripts.py\n",
    "title = \"Display location for ʔagayqsɛn\"\n",
    "latitude = 49.8645\n",
    "longitude = -124.6458"
   ]
  },
  {
   "cell_type": "code",
   "execution_count": null,
   "metadata": {
    "slideshow": {
     "slide_type": "slide"
    }
   },
   "outputs": [],
   "source": [
    "display(Markdown('<h1>{}</h1><br/>'.format(title)))\n",
    "plot_interactive_map(latitude,longitude,'ʔagayqsɛn' )"
   ]
  },
  {
   "cell_type": "markdown",
   "metadata": {
    "slideshow": {
     "slide_type": "slide"
    }
   },
   "source": [
    "<h2 align='center'>Our Collaboration with the Tla'amin Nation</h2>\n",
    "\n",
    "\n",
    "\n",
    "| 2018: Callysto Team at SFU| Prof. Jungic and Prof. Chauve visit the Tla'amin Nation |\n",
    "|-|-|\n",
    "|<img src=\"./pictures/SFUCallystoteam.jpg\" alt=\"Drawing\" style=\"width: 510px;\"/>|<img src=\"https://www.sfu.ca/content/sfu/mathcatcher/about/jcr:content/main_content/image.img.2000.high.jpg/1552942402282.jpg\" alt=\"Drawing\" style=\"width: 1000px;\"/>|\n",
    "|Jenifer Pham, Laura G.F., Howell Tan | Betty Wilson, Gail Blaney, Veselin Jungic, Cedric Chauve, Tyler Peters| \n",
    "\n",
    "\n"
   ]
  },
  {
   "cell_type": "markdown",
   "metadata": {
    "slideshow": {
     "slide_type": "slide"
    }
   },
   "source": [
    "<h2 align='center'>Original Images</h2>\n",
    "\n",
    "<p align='center'>Circular Basket: Triangular Motif</p>   |  <p align='center'> Rectangular Basket: Rectangular and Triangular Motifs</p>\n",
    ":-------------------------:|:-------------------------:\n",
    "![CB](./pictures/20180509_150932.jpg)|![RB](./pictures/20180509_150313.jpg)|\n",
    "\n",
    "Tla'amin Nation Baskets. Photographs by Alex Sutcliffe, IT Coordinator, TLA'AMIN NATION. "
   ]
  },
  {
   "cell_type": "markdown",
   "metadata": {
    "slideshow": {
     "slide_type": "slide"
    }
   },
   "source": [
    "<h2 align='center'>Model recreated with Python</h2>\n",
    "\n",
    "|<p align='center'>Circular Basket: Triangular Motif</p>   |  <p> Rectangular Basket: Rectangular and Triangular Motifs</p>|\n",
    "|-|-|\n",
    "|<img src=\"./pictures/circ-basket.png\" alt=\"Drawing\" style=\"width: 610px;\"/>|<img src=\"./pictures/rect-basket.png\" alt=\"Drawing\" style=\"width: 610px;\"/>|\n"
   ]
  },
  {
   "cell_type": "markdown",
   "metadata": {
    "slideshow": {
     "slide_type": "slide"
    }
   },
   "source": [
    "## Learning outcomes\n",
    "\n",
    "- Indigenous knowledge and perspectives.\n",
    "- Mathematical thinking in relation to First Nations Peoples traditions.\n",
    "- Engage in problem-solving experiences connected to a place, story, cultural practices and perspectives relevant to the Tla’amin Nation.\n",
    "- Relationship between mathematical concepts of translation, reflection and symmetry and cultural practices of weaving. "
   ]
  },
  {
   "cell_type": "markdown",
   "metadata": {
    "slideshow": {
     "slide_type": "slide"
    }
   },
   "source": [
    "<h1 align='center'> Demo!</h1>"
   ]
  },
  {
   "cell_type": "markdown",
   "metadata": {
    "slideshow": {
     "slide_type": "slide"
    }
   },
   "source": [
    "<h2 align='center'>How to access material</h2>\n",
    "\n",
    "- Creating a pattern http://tinyurl.com/r3vkdjd\n",
    "\n",
    "- Visualizing a 3D rendering http://tinyurl.com/ta9ufq7\n",
    "\n",
    "- Try materials in class, please contact us at contact@callysto.ca for support. \n",
    "\n",
    "- Please provide feedback on the students' experience. "
   ]
  },
  {
   "cell_type": "markdown",
   "metadata": {
    "slideshow": {
     "slide_type": "slide"
    }
   },
   "source": [
    "![Callysto.ca Banner](https://github.com/callysto/curriculum-notebooks/blob/master/callysto-notebook-banner-top.jpg?raw=true)\n",
    "\n",
    "<h2 align='center'>Coast Salish Fish Traps (Grade 8)</h2>\n",
    "\n",
    "<h4 align='center'>Laura Gutierrez Funderburk </h4>\n",
    "\n",
    "<h4 align='center'>Data Scientist at Cybera, Callysto Project</h4>"
   ]
  },
  {
   "cell_type": "markdown",
   "metadata": {
    "slideshow": {
     "slide_type": "slide"
    }
   },
   "source": [
    "<h2 align='center'>What we will learn today</h2>\n",
    "\n",
    "How to access the Callysto Hub https://hub.callysto.ca/\n",
    "\n",
    "What is a Jupyter notebook and how to interact with it. \n",
    "\n",
    "An example of a Jupyter notebook exploring the engineering behind Coast Salish Fish traps."
   ]
  },
  {
   "cell_type": "code",
   "execution_count": null,
   "metadata": {},
   "outputs": [],
   "source": [
    "%run ./scripts/web_scrapping.py \"https://www.waterlevels.gc.ca/eng/data/table/2021/wlev_sec/7880\"\n",
    "%run -i ./scripts/scripts.py\n",
    "title = \"Display location for ʔagayqsɛn\"\n",
    "latitude = 49.8645\n",
    "longitude = -124.6458"
   ]
  },
  {
   "cell_type": "code",
   "execution_count": null,
   "metadata": {},
   "outputs": [],
   "source": [
    "display(Markdown('<h1>{}</h1><br/>'.format(title)))\n",
    "plot_interactive_map(latitude,longitude,'ʔagayqsɛn' )"
   ]
  },
  {
   "cell_type": "markdown",
   "metadata": {
    "slideshow": {
     "slide_type": "slide"
    }
   },
   "source": [
    "<h2 align='center'>Our Collaboration with the Tla'amin Nation</h2>\n",
    "\n",
    "\n",
    "\n",
    "| 2020/2021: Callysto Team at Cybera| | |\n",
    "|-|-|-|\n",
    "|<img src=\"./pictures/BryceHaley.png\" alt=\"Drawing\" style=\"width: 10;\"/>|<img src=\"./pictures/LauraGF.jpg\" alt=\"Drawing\" style=\"width: 430px;\"/>|<img src=\"https://www.sfu.ca/content/sfu/mathcatcher/about/jcr:content/main_content/image.img.2000.high.jpg/1552942402282.jpg\" alt=\"Drawing\" style=\"width: 1250px;\"/>|\n",
    "|Bryce Haley | Laura G.F.|Betty Wilson, Gail Blaney, Veselin Jungic, Cedric Chauve, Tyler Peters |\n",
    "\n",
    "\n",
    "Thank you to Alex Sutcliffe for producing media content for our lesson plans, and thank you to the Tla'amin Nation elders who shared their knowledge of fish traps. All rights reserved by the Tla'amin Nation.\n"
   ]
  },
  {
   "cell_type": "code",
   "execution_count": null,
   "metadata": {
    "slideshow": {
     "slide_type": "slide"
    }
   },
   "outputs": [],
   "source": [
    "from IPython.display import YouTubeVideo\n",
    "YouTubeVideo('JWw9ZduMgb8')"
   ]
  },
  {
   "cell_type": "markdown",
   "metadata": {
    "slideshow": {
     "slide_type": "slide"
    }
   },
   "source": [
    "<h2 align='center'>Modelling traditional Coast Salish fish traps</h2>\n",
    "\n",
    "The crescent element consists of either a semi- or completely circular stonewall. Crescent elements are located in the high to low intertidal zone. \n",
    "\n",
    "| |\n",
    "|-|\n",
    "|![](./pictures/crescent.png)|\n",
    "\n",
    "[1] Combes, G., & Welch, J. R. (2012). A Bird's Eye View of Northern Coast Salish Intertidal Resource Management Features, Southern British Columbia, Canada. The Journal of Island and Coastal Archaeology."
   ]
  },
  {
   "cell_type": "markdown",
   "metadata": {
    "slideshow": {
     "slide_type": "slide"
    }
   },
   "source": [
    "<h2 align='center'>Aerial Simulation</h2>\n",
    "\n",
    "Below is an animation created using [Python code](https://github.com/BryceHaley/Callysto-Fish-Traps/blob/master/Notebooks/scripts/particle_box.py). \n",
    "\n",
    "| |\n",
    "|- |\n",
    "|![](./pictures/ezgif.com-optimize.gif)|"
   ]
  },
  {
   "cell_type": "markdown",
   "metadata": {
    "slideshow": {
     "slide_type": "slide"
    }
   },
   "source": [
    "<h1 align='center'>Demo!</h1>"
   ]
  },
  {
   "cell_type": "markdown",
   "metadata": {
    "slideshow": {
     "slide_type": "slide"
    }
   },
   "source": [
    "## Learning outcomes\n",
    "\n",
    "- Indigenous knowledge and perspectives.\n",
    "- Mathematical thinking in relation to First Nations Peoples traditions.\n",
    "- Engage in problem-solving experiences connected to a place, story, cultural practices and perspectives relevant to the Tla’amin Nation.\n",
    "- Relationship between the height, and width of a trap, as well as the behaviour of tides and the number of harvested fish.\n",
    "- Environmental impact of overharvesting fish."
   ]
  },
  {
   "cell_type": "markdown",
   "metadata": {
    "slideshow": {
     "slide_type": "slide"
    }
   },
   "source": [
    "<h2 align='center'>How to access material</h2>\n",
    "\n",
    "- Fish traps lesson plans https://www.callysto.ca/wp-content/uploads/2021/03/Callysto-Lesson-on-Modelling-Coast-Salish-Fish-Traps-new.pdf\n",
    "\n",
    "- Impact of harvesting on fish https://www.callysto.ca/wp-content/uploads/2021/03/Callysto-Lesson-on-Modelling-the-Impact-of-Fish-Harvesting-new.pdf\n",
    "\n",
    "- Try materials in class, please contact us at contact@callysto.ca for support. \n",
    "\n",
    "- Please provide feedback on the students' experience. "
   ]
  },
  {
   "cell_type": "markdown",
   "metadata": {
    "slideshow": {
     "slide_type": "slide"
    }
   },
   "source": [
    "![](https://github.com/callysto/callysto-sample-notebooks/blob/master/notebooks/images/Callysto_Notebook-Banner_Top_06.06.18.jpg?raw=true)\n",
    "\n",
    "<h2 align='center'>Thank you for having me!</h2>\n",
    "\n",
    "![Callysto.ca License](https://github.com/callysto/curriculum-notebooks/blob/master/callysto-notebook-banner-bottom.jpg?raw=true)"
   ]
  }
 ],
 "metadata": {
  "celltoolbar": "Slideshow",
  "kernelspec": {
   "display_name": "Python 3",
   "language": "python",
   "name": "python3"
  },
  "language_info": {
   "codemirror_mode": {
    "name": "ipython",
    "version": 3
   },
   "file_extension": ".py",
   "mimetype": "text/x-python",
   "name": "python",
   "nbconvert_exporter": "python",
   "pygments_lexer": "ipython3",
   "version": "3.8.8"
  },
  "rise": {
   "autolaunch": false,
   "backimage": "Bgnd0.jpg"
  }
 },
 "nbformat": 4,
 "nbformat_minor": 4
}
