{
 "cells": [
  {
   "cell_type": "markdown",
   "id": "congressional-intake",
   "metadata": {
    "slideshow": {
     "slide_type": "slide"
    }
   },
   "source": [
    "| |\n",
    "|-|\n",
    "|<img src=\"./images/Panel_Indigenous-content-workshop-google banner.jpg\" width=\"1480\">|\n"
   ]
  },
  {
   "cell_type": "markdown",
   "id": "differential-emergency",
   "metadata": {
    "slideshow": {
     "slide_type": "slide"
    }
   },
   "source": [
    "<h2 align='center'>Acknowledgements </h2>\n",
    "\n",
    "We acknowledge the Indigenous Peoples of all the lands that we are on today. From all corners of this province, we acknowledge the ancestral and unceded territory of all the Indigenous people that call this land home. "
   ]
  },
  {
   "cell_type": "markdown",
   "id": "decreased-pickup",
   "metadata": {
    "slideshow": {
     "slide_type": "subslide"
    }
   },
   "source": [
    "<h2 align='center'>Acknowledgements </h2>\n",
    "\n",
    "While we meet here today on a virtual platform, and myself from the traditional territory of the treaty 7 people, we take a moment to acknowledge the importance of reconciliation and collaboration. "
   ]
  },
  {
   "cell_type": "markdown",
   "id": "elect-notification",
   "metadata": {
    "slideshow": {
     "slide_type": "subslide"
    }
   },
   "source": [
    "<h2 align='center'>Acknowledgements </h2>\n",
    "\n",
    "\n",
    "We do this to reaffirm our commitment and responsibility in improving relationships between nations and to improve our own understanding of local Indigenous peoples and their cultures."
   ]
  },
  {
   "cell_type": "markdown",
   "id": "systematic-airplane",
   "metadata": {
    "slideshow": {
     "slide_type": "slide"
    }
   },
   "source": [
    "<h2 align='center'>Welcome, \"Che che ha thetch\"</h2>\n"
   ]
  },
  {
   "cell_type": "markdown",
   "id": "dated-calculation",
   "metadata": {
    "slideshow": {
     "slide_type": "slide"
    }
   },
   "source": [
    "|Core team|  | Collaborators |  | \n",
    "|-| -| -| -| \n",
    "|Cedric Chauve|Laura G. Funderburk|Anouk de Brouwer|James Colliander|\n",
    "|Bryce Haley|Veselin Jungic|Georgia Combes|Rachel Dunn|\n",
    "|Jenifer Pham |Alex Sutcliffe |MC Kropinski|Janson Lin|\n",
    "|Howell Tan|Betty Wilson|Pierayeh Vahdani|Courtney Van Den Elzen|\n",
    "| | |Elroy White|Barbara Winter\n",
    "\n",
    "<h4 align='center'>In Partnership with</h4>\n",
    "\n",
    "|  | |\n",
    "|-| - | \n",
    "|The Tla'amin Nation| <img src=\"./images/tlaamin.png\" alt=\"Drawing\" style=\"width: 100px;\"/>|\n",
    "\n",
    "<h4 align='center'>Brought to you by</h4>\n",
    "\n",
    "| | | | | \n",
    "|-|-|-|-|\n",
    "|<img src=\"./images/Cybera_Logo_RBG_Colour.png\" alt=\"Drawing\" style=\"width: 100px;\"/>|<img src=\"./images/PIMS_Logos_Web_PIMS_Logo_Colour.png\" alt=\"Drawing\" style=\"width: 200px;\"/>|<img src=\"./images/With_Funding_Canada_Wordmark-colour_BIL-EN.png\" alt=\"Drawing\" style=\"width: 200px;\"/>|\n",
    "\n",
    "\n",
    "\n",
    "\n",
    "\n",
    "\n"
   ]
  },
  {
   "cell_type": "markdown",
   "id": "atmospheric-collection",
   "metadata": {
    "slideshow": {
     "slide_type": "slide"
    }
   },
   "source": [
    "<h2 align='center'>Introduction by Prof. Veselin Jungic (Simon Fraser University) </h2>\n"
   ]
  },
  {
   "cell_type": "markdown",
   "id": "rocky-queen",
   "metadata": {
    "slideshow": {
     "slide_type": "slide"
    }
   },
   "source": [
    "\n",
    "<h2 align='center'>Mathematical Knowledge </h2>\n",
    "\n",
    "“There are, from my analyses, six fundamental activities which I argue are both universal, in that they appear to be carried out by every cultural group ever studied, and also necessary and sufficient for the development of mathematical knowledge. ” \n",
    "\n",
    "<h4 align='center'> Counting, Locating, Measuring, Designing, Playing, Explaining </h4>\n",
    "\n",
    "| |\n",
    "|-|\n",
    "|Bishop. A. J. (1988). Mathematics Education in its Cultural Context, Educational Studies in Mathematics, 19, 179-191.|"
   ]
  },
  {
   "cell_type": "markdown",
   "id": "blank-johnston",
   "metadata": {
    "slideshow": {
     "slide_type": "slide"
    }
   },
   "source": [
    "<h2 align='center'>Ethnomathematics</h2>\n",
    "\n",
    "\n",
    "\"Mathematics which is practised among identifiable cultural groups, such as national-tribal societies, labor groups, children of a certain age bracket, professional classes, and so on.\"\n",
    "\n",
    "| |\n",
    "|-|\n",
    "|Ubiratan D’Ambrosio, a Brazilian mathematics educator and historian of mathematics, in D'Ambrosio, U. (1985). Ethnomathematics and its place in the history and pedagogy of mathematics. For the Learning of Mathematics, 5, 44-48.|"
   ]
  },
  {
   "cell_type": "markdown",
   "id": "clinical-printer",
   "metadata": {
    "slideshow": {
     "slide_type": "slide"
    }
   },
   "source": [
    "<h2 align='center'>Ethnomathematics</h2>\n",
    "\n",
    "\n",
    "“We may go even further in this concept of ethnomathematics to include much of the mathematics which is currently practised by engineers, mainly calculus, which does not respond to the concept of rigor and formalism developed in academic courses of calculus.”\n",
    "”And builders and welldiggers and shack-raisers in the slums also use examples of ethnomathematics.”\n",
    "D’Ambrosio"
   ]
  },
  {
   "cell_type": "markdown",
   "id": "false-chair",
   "metadata": {
    "slideshow": {
     "slide_type": "slide"
    }
   },
   "source": [
    "<h2 align='center'>Marcelo C. Borba, a Brazilian Mathematics Educator</h2>\n",
    "\n",
    "\n",
    "Ethnomathematics - “should be understood as referring to cultural groups, and not to the anachronistic concept of race.” \n",
    "\n",
    "| |\n",
    "|-|\n",
    "|Borba, M. (1985). Ethnomathematics and education. For the Learning of Mathematics, 10, 39-43.|"
   ]
  },
  {
   "cell_type": "markdown",
   "id": "parental-islam",
   "metadata": {
    "slideshow": {
     "slide_type": "subslide"
    }
   },
   "source": [
    "<h2 align='center'>Marcelo C. Borba, a Brazilian Mathematics Educator</h2>\n",
    "\n",
    "\n",
    "Mathematics - “should be seen as a set of activities such as ciphering, measuring, classifying, ordering, inferring and modelling.”\n",
    "\n",
    "| |\n",
    "|-|\n",
    "|Borba, M. (1985). Ethnomathematics and education. For the Learning of Mathematics, 10, 39-43.|"
   ]
  },
  {
   "cell_type": "markdown",
   "id": "parallel-orlando",
   "metadata": {
    "slideshow": {
     "slide_type": "subslide"
    }
   },
   "source": [
    "<h2 align='center'>Marcelo C. Borba, a Brazilian Mathematics Educator</h2>\n",
    "\n",
    "\n",
    "Moreover - “even the mathematics produced by professional mathematicians can be seen as a form of ethnomathematics because it was produced by an identifiable cultural group and because it is not the only mathematics that has been produced.”\n",
    "\n",
    "| |\n",
    "|-|\n",
    "|Borba, M. (1985). Ethnomathematics and education. For the Learning of Mathematics, 10, 39-43.|"
   ]
  },
  {
   "cell_type": "markdown",
   "id": "independent-alignment",
   "metadata": {
    "slideshow": {
     "slide_type": "slide"
    }
   },
   "source": [
    "<h2 align='center'>Marcelo C. Borba:</h2>\n",
    "\n",
    "| | |\n",
    "|-|-|\n",
    "|Ethnomathematics is a forest “in which each tree would be considered as a different expression of ethnomathematics, socio-culturally produced.”|<img src=\"./images/ArtByV.png\" width=\"1580\">\n",
    "|\n",
    "| | Art by Veselin Jungic and Nicole Oishi|"
   ]
  },
  {
   "cell_type": "markdown",
   "id": "proprietary-compensation",
   "metadata": {
    "slideshow": {
     "slide_type": "slide"
    }
   },
   "source": [
    "<h2 align='center'>“Two-Eyed Seeing”</h2>\n",
    "\n",
    "\n",
    "Elder Albert Marshall of the Mi’kmaw Nation:\n",
    "“Two-Eyed Seeing refers to learning to see from one eye with the strengths of Indigenous knowledges and ways of knowing and from the other eye with the strengths of Western knowledges and ways of knowing and to using both these eyes together, for the benefit of all.”\n",
    "\n",
    "| |\n",
    "|-|\n",
    "|Bartlett, C., Marshall, M., Marshall, A., & Iwama, M. (2015). Integrative \t\t\t\tScience and Two-Eyed Seeing: Enriching the Discussion Framework for \t\t\t\tHealthy Communities. In L. K. Hallstrom, N. Guehlstorf, & M. Parkes (Eds.) \t\t\t\tEcosystems, society and health: Pathways through diversity, convergence and \t\t\tintegration (pp. 280-326). McGill-Queen’s University Press.|"
   ]
  },
  {
   "cell_type": "markdown",
   "id": "lonely-signal",
   "metadata": {
    "slideshow": {
     "slide_type": "slide"
    }
   },
   "source": [
    "<h2 align='center'>Ethnomathematics and Two-Eyed Seeing</h2>\n",
    "\n",
    "\n",
    "\n",
    "| |\n",
    "|-|\n",
    "|<img src=\"./images/ArtByV.png\" width=\"680\">|\n",
    "|Art by Veselin Jungic and Nicole Oishi|\n",
    "\n"
   ]
  },
  {
   "cell_type": "markdown",
   "id": "second-convergence",
   "metadata": {
    "slideshow": {
     "slide_type": "slide"
    }
   },
   "source": [
    "<h2 align='center'>Introduction by Betty Wilson and Alex Sutcliffe (Tla'amin Nation)</h2>\n"
   ]
  },
  {
   "cell_type": "code",
   "execution_count": null,
   "id": "extended-backup",
   "metadata": {
    "slideshow": {
     "slide_type": "skip"
    }
   },
   "outputs": [],
   "source": [
    "from IPython.display import YouTubeVideo\n",
    "YouTubeVideo('JWw9ZduMgb8')"
   ]
  },
  {
   "cell_type": "markdown",
   "id": "blessed-blackjack",
   "metadata": {
    "slideshow": {
     "slide_type": "slide"
    }
   },
   "source": [
    "<h2 align='center'>Introduction by Laura G. Funderburk (Cybera & Callysto) </h2>\n"
   ]
  },
  {
   "cell_type": "markdown",
   "id": "electoral-finish",
   "metadata": {
    "slideshow": {
     "slide_type": "slide"
    }
   },
   "source": [
    "<h2 align='center'>Modelling traditional Coast Salish fish traps</h2>\n",
    "\n",
    "The crescent element consists of either a semi- or completely circular stonewall. Crescent elements are located in the high to low intertidal zone. \n",
    "\n",
    "| |\n",
    "|-|\n",
    "|![](./images/crescent.png)|\n",
    "\n",
    "| |\n",
    "|-|\n",
    "|Combes, G., & Welch, J. R. (2012). A Bird's Eye View of Northern Coast Salish Intertidal Resource Management Features, Southern British Columbia, Canada. The Journal of Island and Coastal Archaeology|"
   ]
  },
  {
   "cell_type": "markdown",
   "id": "regulated-montgomery",
   "metadata": {
    "slideshow": {
     "slide_type": "slide"
    }
   },
   "source": [
    "<h2 align='center'>Aerial Simulation</h2>\n",
    "\n",
    "Below is an animation created using [Python code](https://github.com/BryceHaley/Callysto-Fish-Traps/blob/master/Notebooks/scripts/particle_box.py). \n",
    "\n",
    "| |\n",
    "|- |\n",
    "|![](./images/ezgif.com-optimize.gif)|"
   ]
  },
  {
   "cell_type": "markdown",
   "id": "administrative-notice",
   "metadata": {
    "slideshow": {
     "slide_type": "slide"
    }
   },
   "source": [
    "<h1 align='center'>Mini Demo!</h1>\n",
    "\n",
    "We used the Python programming language, Jupyter notebooks and Callysto's Jupyter Hub to create:\n",
    "\n",
    "* Modelling the crescent element: https://tinyurl.com/y37hrspp\n",
    "\n",
    "* Modelling the impact of greedy harvesting on fish populations: https://tinyurl.com/y6cdcw2n\n",
    "\n",
    "* Lesson plans: https://www.callysto.ca/lesson-plans/\n",
    "\n",
    "All free of cost, under creative commons license. Rights to videos reserved the by Tla'amin Nation."
   ]
  }
 ],
 "metadata": {
  "celltoolbar": "Slideshow",
  "kernelspec": {
   "display_name": "Python 3",
   "language": "python",
   "name": "python3"
  },
  "language_info": {
   "codemirror_mode": {
    "name": "ipython",
    "version": 3
   },
   "file_extension": ".py",
   "mimetype": "text/x-python",
   "name": "python",
   "nbconvert_exporter": "python",
   "pygments_lexer": "ipython3",
   "version": "3.8.8"
  },
  "rise": {
   "autolaunch": false,
   "backimage": "Bgnd0.jpg"
  }
 },
 "nbformat": 4,
 "nbformat_minor": 5
}
