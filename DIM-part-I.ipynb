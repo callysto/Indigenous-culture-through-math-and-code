{
 "cells": [
  {
   "cell_type": "markdown",
   "id": "corrected-planner",
   "metadata": {
    "slideshow": {
     "slide_type": "slide"
    }
   },
   "source": [
    "![Callysto.ca Banner](https://github.com/callysto/curriculum-notebooks/blob/master/callysto-notebook-banner-top.jpg?raw=true)\n",
    "\n",
    "<h2 align='center'>Modelling Coast Salish Fish Traps</h2>\n",
    "\n",
    "<h4 align='center'>Laura Gutierrez Funderburk </h4>\n",
    "\n",
    "<h4 align='center'>Data Scientist at Cybera, Callysto Project</h4>"
   ]
  },
  {
   "cell_type": "markdown",
   "id": "brown-complexity",
   "metadata": {
    "slideshow": {
     "slide_type": "slide"
    }
   },
   "source": [
    "<h2 align='center'>Acknowledgements </h2>\n",
    "\n",
    "We acknowledge the Indigenous Peoples of all the lands that we are on today. From all corners of this province, we acknowledge the ancestral and unceded territory of all the Indigenous people that call this land home. "
   ]
  },
  {
   "cell_type": "markdown",
   "id": "developmental-header",
   "metadata": {
    "slideshow": {
     "slide_type": "subslide"
    }
   },
   "source": [
    "<h2 align='center'>Acknowledgements </h2>\n",
    "\n",
    "While we meet here today on a virtual platform, and myself on the unceded territories of the xʷməθkwəy̓əm, Skwxwú7mesh, Stó:lō and Səl̓ílwətaʔ/Selilwitulh Nations, we take a moment to acknowledge the importance of reconciliation and collaboration. "
   ]
  },
  {
   "cell_type": "markdown",
   "id": "vulnerable-castle",
   "metadata": {
    "slideshow": {
     "slide_type": "subslide"
    }
   },
   "source": [
    "<h2 align='center'>Acknowledgements </h2>\n",
    "\n",
    "\n",
    "We do this to reaffirm our commitment and responsibility in improving relationships between nations and to improve our own understanding of local Indigenous peoples and their cultures."
   ]
  },
  {
   "cell_type": "markdown",
   "id": "substantial-theology",
   "metadata": {
    "slideshow": {
     "slide_type": "slide"
    }
   },
   "source": [
    "<h2 align='center'>Welcome, \"Che che ha thetch\"</h2>\n"
   ]
  },
  {
   "cell_type": "markdown",
   "id": "moving-stick",
   "metadata": {
    "slideshow": {
     "slide_type": "slide"
    }
   },
   "source": [
    "|Core team|  | Collaborators |  | \n",
    "|-| -| -| -| \n",
    "|Cedric Chauve|Laura G. Funderburk|Anouk de Brouwer|James Colliander|\n",
    "|Bryce Haley|Veselin Jungic|Georgia Combes|Rachel Dunn|\n",
    "|Jenifer Pham |Alex Sutcliffe |MC Kropinski|Janson Lin|\n",
    "|Howell Tan|Betty Wilson|Pierayeh Vahdani|Courtney Van Den Elzen|\n",
    "| | |Elroy White|Barbara Winter\n",
    "\n",
    "<h4 align='center'>In Partnership with</h4>\n",
    "\n",
    "|  | |\n",
    "|-| - | \n",
    "|The Tla'amin Nation| <img src=\"./images/tlaamin.png\" alt=\"Drawing\" style=\"width: 100px;\"/>|\n",
    "\n",
    "<h4 align='center'>Brought to you by</h4>\n",
    "\n",
    "| | | | | \n",
    "|-|-|-|-|\n",
    "|<img src=\"./images/Cybera_Logo_RBG_Colour.png\" alt=\"Drawing\" style=\"width: 100px;\"/>|<img src=\"./images/PIMS_Logos_Web_PIMS_Logo_Colour.png\" alt=\"Drawing\" style=\"width: 200px;\"/>|<img src=\"./images/With_Funding_Canada_Wordmark-colour_BIL-EN.png\" alt=\"Drawing\" style=\"width: 200px;\"/>|\n"
   ]
  },
  {
   "cell_type": "markdown",
   "id": "respective-fortune",
   "metadata": {
    "slideshow": {
     "slide_type": "slide"
    }
   },
   "source": [
    "<h2 align='center'>Learning Outcomes </h2>\n",
    "\n",
    "* Indigenous knowledge and perspectives."
   ]
  },
  {
   "cell_type": "markdown",
   "id": "structural-football",
   "metadata": {
    "slideshow": {
     "slide_type": "subslide"
    }
   },
   "source": [
    "<h2 align='center'>Learning Outcomes </h2>\n",
    "\n",
    "* Mathematical thinking in relation to First Nations Peoples traditions."
   ]
  },
  {
   "cell_type": "markdown",
   "id": "continuous-diameter",
   "metadata": {
    "slideshow": {
     "slide_type": "subslide"
    }
   },
   "source": [
    "<h2 align='center'>Learning Outcomes </h2>\n",
    "\n",
    "* Engage in problem-solving experiences connected to a place, story, cultural practices and\n",
    "perspectives relevant to the Tla’amin Nation."
   ]
  },
  {
   "cell_type": "markdown",
   "id": "sacred-filing",
   "metadata": {
    "slideshow": {
     "slide_type": "subslide"
    }
   },
   "source": [
    "<h2 align='center'>Learning Outcomes </h2>\n",
    "\n",
    "* Relationship between the height, and width of a trap, as well as the behaviour of tides and the\n",
    "number of harvested fish."
   ]
  },
  {
   "cell_type": "markdown",
   "id": "magnetic-motel",
   "metadata": {
    "slideshow": {
     "slide_type": "slide"
    }
   },
   "source": [
    "<h2 align='center'>Background Knowledge: Intertidal zones </h2>\n",
    "\n",
    "\n",
    "| |\n",
    "|-|\n",
    "|<img src=\"./images/MidTide.jpeg\" width=\"680\">|\n",
    "\n",
    "Image from https://sites.google.com/site/codkat103/home/midtidal-zone"
   ]
  },
  {
   "cell_type": "markdown",
   "id": "smooth-trout",
   "metadata": {
    "slideshow": {
     "slide_type": "slide"
    }
   },
   "source": [
    "<h2 align='center'>Background Knowledge: Intertidal Modifications </h2>\n",
    "\n",
    "This is an area in the intertidal zone that has been changed by humans to increase harvesting\n",
    "productivity of marine wildlife (like clams or salmon). \n",
    "\n",
    "These changes involv building large\n",
    "structures made of rock or wood in the intertidal zone. Coast Salish Peoples modified the\n",
    "intertidal zone to facilitate harvesting clams (these modifications are also known as “clam\n",
    "gardens”) and ease the process of catching fish (fish traps)."
   ]
  },
  {
   "cell_type": "markdown",
   "id": "unsigned-north",
   "metadata": {
    "slideshow": {
     "slide_type": "slide"
    }
   },
   "source": [
    "<h2 align='center'>Background Knowledge: Coast Salish Fish Traps in ʔagayqsɛn</h2>\n",
    "\n",
    "\n",
    "| |\n",
    "|-|\n",
    "|[![Fish traps video](https://img.youtube.com/vi/JWw9ZduMgb8/0.jpg)](https://www.youtube.com/watch?v=JWw9ZduMgb8)|\n",
    "\n",
    "\n",
    "wuχoθɛn - Fish Traps, by the Tla'amin Nation"
   ]
  },
  {
   "cell_type": "markdown",
   "id": "healthy-footwear",
   "metadata": {
    "slideshow": {
     "slide_type": "slide"
    }
   },
   "source": [
    "<h2 align='center'>Background Knowledge: Kinds of traps </h2>\n",
    "\n",
    "| |\n",
    "|-|\n",
    "|<img src=\"./images/FishTraps.png\" width=\"380\">|\n",
    "\n",
    "Lepofsky et al. [1] (2012) A Bird's Eye View of Northern Coast Salish Intertidal Resource Management Features"
   ]
  },
  {
   "cell_type": "markdown",
   "id": "regulation-tender",
   "metadata": {
    "slideshow": {
     "slide_type": "slide"
    }
   },
   "source": [
    "<h2 align='center'>Activity: share with the group</h2>\n",
    "\n",
    "Identify factors that Coast Salish Peoples needed to consider when modifying an intertidal zone. "
   ]
  },
  {
   "cell_type": "markdown",
   "id": "peripheral-drinking",
   "metadata": {
    "slideshow": {
     "slide_type": "slide"
    }
   },
   "source": [
    "<h2 align='center'>Activity: factors to consider</h2>\n",
    "\n",
    "* Location where harvesting would occur\n",
    "* Location of the trap, relative to the tide\n",
    "* Shape and measurements of the trap\n",
    "* Time of day to perform harvesting\n",
    "* Tide behaviour"
   ]
  },
  {
   "cell_type": "markdown",
   "id": "peripheral-junior",
   "metadata": {
    "slideshow": {
     "slide_type": "slide"
    }
   },
   "source": [
    "<h2 align='center'>Modelling traditional Coast Salish fish traps</h2>\n",
    "\n",
    "The crescent element consists of either a semi- or completely circular stonewall. Crescent elements are located in the high to low intertidal zone. \n",
    "\n",
    "| | |\n",
    "|-|-|\n",
    "|![](./images/crescent.png)| ![](./images/ezgif.com-optimize.gif)|"
   ]
  },
  {
   "cell_type": "markdown",
   "id": "spoken-organization",
   "metadata": {
    "slideshow": {
     "slide_type": "slide"
    }
   },
   "source": [
    "<h2 align='center'>Activity: share with the group</h2>\n",
    "\n",
    "\n",
    "* What measurements do you think are required to design this trap?\n",
    "* How do you think fish get into the trap?\n",
    "* How do you think fish are trapped?\n",
    "* When do you think is the best time to harvest fish?"
   ]
  },
  {
   "cell_type": "markdown",
   "id": "unlimited-interval",
   "metadata": {
    "slideshow": {
     "slide_type": "slide"
    }
   },
   "source": [
    "<h2 align='center'>Activity: identifying parameters of model</h2>\n",
    "\n",
    "* What measurements do you think are required to design this trap?\n",
    "\n",
    "        Height of the trap, width of the trap, \n",
    "        location of the trap relative \n",
    "        to the tide, slope of the beach."
   ]
  },
  {
   "cell_type": "markdown",
   "id": "excited-infrared",
   "metadata": {
    "slideshow": {
     "slide_type": "subslide"
    }
   },
   "source": [
    "<h2 align='center'>Activity: identifying parameters of model</h2>\n",
    "\n",
    "* How do you think fish get into the trap?\n",
    "\n",
    "        When the tide goes above the highest \n",
    "        point of the crescent element.\n",
    "        \n"
   ]
  },
  {
   "cell_type": "markdown",
   "id": "growing-invite",
   "metadata": {
    "slideshow": {
     "slide_type": "subslide"
    }
   },
   "source": [
    "<h2 align='center'>Activity: identifying parameters of model</h2>\n",
    "\n",
    "* How do you think fish are trapped?\n",
    "\n",
    "        When the tide goes below the highest point of \n",
    "        the crescent element, some water remains inside \n",
    "        the trap. Any fish that swam into the crescent\n",
    "        element, but did not make it back to the ocean, \n",
    "        when the tide goes down, then\n",
    "        becomes trapped.\n",
    "\n"
   ]
  },
  {
   "cell_type": "markdown",
   "id": "scenic-ireland",
   "metadata": {
    "slideshow": {
     "slide_type": "subslide"
    }
   },
   "source": [
    "<h2 align='center'>Activity: identifying parameters of model</h2>\n",
    "\n",
    "* When do you think is the best time to harvest fish?\n",
    "         \n",
    "         After the tide has gone up \n",
    "         (let fish into the trap) and down (trap fish)."
   ]
  },
  {
   "cell_type": "markdown",
   "id": "duplicate-vampire",
   "metadata": {
    "slideshow": {
     "slide_type": "slide"
    }
   },
   "source": [
    "<h2 align='center'>Activity: bringing our model to life using code</h2>\n",
    "\n",
    "$\\Rightarrow$ We are going to first explore data sources containing tide information. \n",
    "\n",
    "$\\Rightarrow$ We are going to use code to study the patterns of the tide for a given region.\n",
    "\n",
    "$\\Rightarrow$ We are going to use a simulation of the tide going up and down, with fish in it. \n",
    "\n",
    "$\\Rightarrow$ We are going to play with parameters to see how many fish we can get."
   ]
  },
  {
   "cell_type": "markdown",
   "id": "abroad-albania",
   "metadata": {
    "slideshow": {
     "slide_type": "slide"
    }
   },
   "source": [
    "<h2 align='center'>Activity: let's do some setup first</h2>\n",
    "\n",
    "$\\Rightarrow$ We are going to use the Python programming language.\n",
    "\n",
    "    A programming language allows us to communicate with a computer. \n",
    "    We will instruct the computer on how to simulate a trap.\n",
    "\n",
    "$\\Rightarrow$ We are going to use Jupyter notebooks.\n",
    "\n",
    "    Jupyter notebooks allow us to visualize and interact with our\n",
    "    simulation."
   ]
  },
  {
   "cell_type": "markdown",
   "id": "determined-product",
   "metadata": {
    "slideshow": {
     "slide_type": "slide"
    }
   },
   "source": [
    "<h2 align='center'>Activity: using code to simulate Coast Salish Fish Traps</h2>\n",
    "\n",
    "\n",
    "Modelling the crescent element: https://tinyurl.com/y37hrspp"
   ]
  },
  {
   "cell_type": "markdown",
   "id": "complex-corporation",
   "metadata": {
    "slideshow": {
     "slide_type": "slide"
    }
   },
   "source": [
    "[1] Megan E. Caldwell , Dana Lepofsky , Georgia Combes , Michelle Washington , John R. Welch & John R.\n",
    "Harper (2012) A Bird's Eye View of Northern Coast Salish Intertidal Resource Management Features, Southern British\n",
    "Columbia, Canada, The Journal of Island and Coastal Archaeology, 7:2, 219-233. Photos by G. Combes."
   ]
  }
 ],
 "metadata": {
  "celltoolbar": "Slideshow",
  "kernelspec": {
   "display_name": "Python 3",
   "language": "python",
   "name": "python3"
  },
  "language_info": {
   "codemirror_mode": {
    "name": "ipython",
    "version": 3
   },
   "file_extension": ".py",
   "mimetype": "text/x-python",
   "name": "python",
   "nbconvert_exporter": "python",
   "pygments_lexer": "ipython3",
   "version": "3.8.8"
  },
  "rise": {
   "autolaunch": false,
   "backimage": "Bgnd0.jpg"
  }
 },
 "nbformat": 4,
 "nbformat_minor": 5
}
